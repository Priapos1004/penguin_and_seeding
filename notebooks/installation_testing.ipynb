{
 "cells": [
  {
   "cell_type": "markdown",
   "id": "28ce728a",
   "metadata": {},
   "source": [
    "# Installation testing notebook\n",
    "\n",
    "Run the following cells to check that the installation was successful ✅"
   ]
  },
  {
   "cell_type": "markdown",
   "id": "5b3c4e63",
   "metadata": {},
   "source": [
    "## Testing pynguin\n",
    "\n",
    "See pynguin documentation for [more](https://pynguin.readthedocs.io/en/latest/api.html) 🐧\n",
    "\n",
    "After running the cell, look in `pynguin_results/` for [test_example.py](pynguin_results/test_example.py) to see the generated test cases."
   ]
  },
  {
   "cell_type": "code",
   "execution_count": null,
   "id": "1818bf30",
   "metadata": {},
   "outputs": [],
   "source": [
    "import os\n",
    "import sys\n",
    "import subprocess\n",
    "\n",
    "# 1) Prepare a results directory\n",
    "os.makedirs(\"pynguin_results\", exist_ok=True)\n",
    "\n",
    "# 2) Use Pynguin’s programmatic API\n",
    "from pynguin.configuration import (\n",
    "    Configuration,\n",
    "    TestCaseOutputConfiguration,\n",
    "    ExportStrategy\n",
    ")\n",
    "from pynguin.generator import set_configuration, run_pynguin\n",
    "\n",
    "# Build the minimal test-case-output config\n",
    "output_config = TestCaseOutputConfiguration(\n",
    "    export_strategy=ExportStrategy.PY_TEST,   # Use pytest style\n",
    "    format_with_black=True,                   # Auto-format with Black\n",
    "    output_path=\"pynguin_results\"             # Where to write tests\n",
    ")\n",
    "\n",
    "# Build the main configuration\n",
    "cfg = Configuration(\n",
    "    project_path=\".\",       # Path where example.py lives\n",
    "    module_name=\"example\",  # The module to test (i.e., example.py)\n",
    "    test_case_output=output_config\n",
    ")\n",
    "\n",
    "# “Activate” it and run\n",
    "set_configuration(cfg)\n",
    "rc = run_pynguin()\n",
    "print(\"Pynguin return code:\", rc)\n",
    "\n",
    "# 3) Run coverage + pytest in one go\n",
    "cmd = [\n",
    "    sys.executable, \"-m\", \"coverage\", \"run\",\n",
    "    \"--source=example\",       # only measure example.py\n",
    "    \"-m\", \"pytest\", \"pynguin_results\",\n",
    "    \"-q\"                      # quiet pytest (dots only)\n",
    "]\n",
    "print(\"▶ Running:\", \" \".join(cmd))\n",
    "proc = subprocess.run(cmd, capture_output=True, text=True)\n",
    "\n",
    "# 4) Always print out what pytest saw\n",
    "print(proc.stdout)\n",
    "if proc.returncode != 0:\n",
    "    print(\"─── STDERR ───\", file=sys.stderr)\n",
    "    print(proc.stderr, file=sys.stderr)\n",
    "    raise RuntimeError(f\"pytest failed with exit code {proc.returncode}\")\n",
    "\n",
    "# 5) Tests passed, now show coverage report\n",
    "print(\"\\nTests passed. Generating coverage report…\\n\")\n",
    "\n",
    "# 6) Terminal report (with missing lines)\n",
    "subprocess.run(\n",
    "    [sys.executable, \"-m\", \"coverage\", \"report\", \"-m\"],\n",
    "    check=True\n",
    ")\n",
    "\n",
    "# 7) HTML report\n",
    "html_dir = \"htmlcov\"\n",
    "subprocess.run(\n",
    "    [sys.executable, \"-m\", \"coverage\", \"html\", \"-d\", html_dir],\n",
    "    check=True\n",
    ")"
   ]
  },
  {
   "cell_type": "code",
   "execution_count": null,
   "id": "6bfc7961",
   "metadata": {},
   "outputs": [],
   "source": [
    "import webbrowser\n",
    "\n",
    "# 8) Automatically open coverage report in browser\n",
    "abs_path = os.path.abspath(os.path.join(html_dir, \"index.html\"))\n",
    "file_url = f\"file://{abs_path}\"\n",
    "print(f\"\\nFile URL:\\n{file_url}\")\n",
    "webbrowser.open(file_url)"
   ]
  },
  {
   "cell_type": "code",
   "execution_count": null,
   "id": "b3f05ba2",
   "metadata": {},
   "outputs": [],
   "source": []
  }
 ],
 "metadata": {
  "kernelspec": {
   "display_name": "pen_see",
   "language": "python",
   "name": "python3"
  },
  "language_info": {
   "codemirror_mode": {
    "name": "ipython",
    "version": 3
   },
   "file_extension": ".py",
   "mimetype": "text/x-python",
   "name": "python",
   "nbconvert_exporter": "python",
   "pygments_lexer": "ipython3",
   "version": "3.10.18"
  }
 },
 "nbformat": 4,
 "nbformat_minor": 5
}
